{
 "cells": [
  {
   "cell_type": "code",
   "execution_count": 20,
   "metadata": {},
   "outputs": [
    {
     "name": "stdout",
     "output_type": "stream",
     "text": [
      "Images downloaded successfully!\n"
     ]
    }
   ],
   "source": [
    "# import os\n",
    "# from numpy import inner\n",
    "from numpy import inner\n",
    "import requests\n",
    "from bs4 import BeautifulSoup\n",
    "from urllib.parse import urlparse\n",
    "import os, sys\n",
    "import requests\n",
    "from urllib import parse\n",
    "# from bs4 import BeautifulSoup\n",
    "import re\n",
    "\n",
    "def download_images(url):\n",
    "    # Parse the URL to extract the base domain\n",
    "    parsed_url = urlparse(url)\n",
    "    base_domain = parsed_url.netloc\n",
    "\n",
    "    # Create a folder on the computer\n",
    "    folder_name = base_domain.replace(\".\", \"_\")  # Replace dots with underscores\n",
    "    os.makedirs(folder_name, exist_ok=True)\n",
    "\n",
    "    # Send a GET request to the URL and retrieve the page content\n",
    "    response = requests.get(url)\n",
    "    page_content = response.text\n",
    "\n",
    "    # Parse the HTML content\n",
    "    soup = BeautifulSoup(page_content, \"html.parser\")\n",
    "\n",
    "    # Find all the image tags on the page\n",
    "    image_tags = soup.find_all(\"img\")\n",
    "\n",
    "    for image_tag in soup.findAll('img'):\n",
    "\n",
    "        if image_tag.has_attr(inner):\n",
    "\n",
    "        # Extract the title of each image (if available)\n",
    "            title = image_tag.get(\"title\", \"\")\n",
    "\n",
    "        # Extract the source URL of the image\n",
    "            src = image_tag.get(\"src\")\n",
    "\n",
    "        # If the source URL is a relative path, convert it to an absolute URL\n",
    "            if not src.startswith(\"http\"):\n",
    "                src = f\"{parsed_url.scheme}://{parsed_url.netloc}{src}\"\n",
    "\n",
    "        # Send a GET request to the image URL and retrieve the image content\n",
    "            image_response = requests.get(src)\n",
    "\n",
    "        # Extract the filename from the source URL\n",
    "            parsed_src = urlparse(src)\n",
    "            filename = os.path.basename(parsed_src.path)\n",
    "\n",
    "        # If the image has a title, use it as the filename\n",
    "            if title:\n",
    "                filename = f\"{title}.jpg\"\n",
    "\n",
    "        # Save the image in the created folder\n",
    "            with open(os.path.join(folder_name, filename), \"wb\") as f:\n",
    "                f.write(image_response.content)\n",
    "\n",
    "    print(\"Images downloaded successfully!\")\n",
    "\n",
    "# Example usage:\n",
    "url = \"https://en.wikipedia.org/wiki/Python_(programming_language)\"  # Replace with your desired URL\n",
    "download_images(url)\n"
   ]
  },
  {
   "cell_type": "code",
   "execution_count": null,
   "metadata": {},
   "outputs": [],
   "source": []
  },
  {
   "cell_type": "code",
   "execution_count": null,
   "metadata": {},
   "outputs": [],
   "source": []
  }
 ],
 "metadata": {
  "kernelspec": {
   "display_name": "Python 3",
   "language": "python",
   "name": "python3"
  },
  "language_info": {
   "name": "python",
   "version": "3.10.6"
  },
  "orig_nbformat": 4
 },
 "nbformat": 4,
 "nbformat_minor": 2
}
