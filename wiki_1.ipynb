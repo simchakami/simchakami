{
 "cells": [
  {
   "cell_type": "code",
   "execution_count": 17,
   "metadata": {},
   "outputs": [
    {
     "name": "stdout",
     "output_type": "stream",
     "text": [
      "['']\n",
      "['', 'Wikipedia']\n",
      "['', 'Wikipedia', 'The Free Encyclopedia']\n",
      "['', 'Wikipedia', 'The Free Encyclopedia', 'Page semi-protected']\n",
      "['', 'Wikipedia', 'The Free Encyclopedia', 'Page semi-protected', 'Wiki letter w.svg']\n",
      "['', 'Wikipedia', 'The Free Encyclopedia', 'Page semi-protected', 'Wiki letter w.svg', 'Python-logo-notext.svg']\n",
      "['', 'Wikipedia', 'The Free Encyclopedia', 'Page semi-protected', 'Wiki letter w.svg', 'Python-logo-notext.svg', 'Edit this on Wikidata']\n",
      "['', 'Wikipedia', 'The Free Encyclopedia', 'Page semi-protected', 'Wiki letter w.svg', 'Python-logo-notext.svg', 'Edit this on Wikidata', 'Edit this on Wikidata']\n",
      "['', 'Wikipedia', 'The Free Encyclopedia', 'Page semi-protected', 'Wiki letter w.svg', 'Python-logo-notext.svg', 'Edit this on Wikidata', 'Edit this on Wikidata', '']\n"
     ]
    },
    {
     "ename": "KeyError",
     "evalue": "'alt'",
     "output_type": "error",
     "traceback": [
      "\u001b[0;31m---------------------------------------------------------------------------\u001b[0m",
      "\u001b[0;31mKeyError\u001b[0m                                  Traceback (most recent call last)",
      "\u001b[0;32m/tmp/ipykernel_9264/494376826.py\u001b[0m in \u001b[0;36m<module>\u001b[0;34m\u001b[0m\n\u001b[1;32m     63\u001b[0m \u001b[0;34m\u001b[0m\u001b[0m\n\u001b[1;32m     64\u001b[0m \u001b[0;34m\u001b[0m\u001b[0m\n\u001b[0;32m---> 65\u001b[0;31m \u001b[0mdownload\u001b[0m\u001b[0;34m(\u001b[0m\u001b[0mget_url\u001b[0m\u001b[0;34m(\u001b[0m\u001b[0mURL\u001b[0m\u001b[0;34m)\u001b[0m\u001b[0;34m)\u001b[0m\u001b[0;34m\u001b[0m\u001b[0;34m\u001b[0m\u001b[0m\n\u001b[0m\u001b[1;32m     66\u001b[0m     \u001b[0;31m# print(*link_list,sep='\\n')\u001b[0m\u001b[0;34m\u001b[0m\u001b[0;34m\u001b[0m\u001b[0m\n\u001b[1;32m     67\u001b[0m \u001b[0;34m\u001b[0m\u001b[0m\n",
      "\u001b[0;32m/tmp/ipykernel_9264/494376826.py\u001b[0m in \u001b[0;36mdownload\u001b[0;34m(soup, page_num, img_num)\u001b[0m\n\u001b[1;32m     29\u001b[0m     \u001b[0mimg_list\u001b[0m \u001b[0;34m=\u001b[0m \u001b[0;34m[\u001b[0m\u001b[0;34m]\u001b[0m\u001b[0;34m\u001b[0m\u001b[0;34m\u001b[0m\u001b[0m\n\u001b[1;32m     30\u001b[0m     \u001b[0;32mfor\u001b[0m \u001b[0mimg\u001b[0m \u001b[0;32min\u001b[0m \u001b[0msoup\u001b[0m\u001b[0;34m.\u001b[0m\u001b[0mfind_all\u001b[0m\u001b[0;34m(\u001b[0m\u001b[0;34m'img'\u001b[0m\u001b[0;34m)\u001b[0m\u001b[0;34m:\u001b[0m\u001b[0;34m\u001b[0m\u001b[0;34m\u001b[0m\u001b[0m\n\u001b[0;32m---> 31\u001b[0;31m         \u001b[0mname\u001b[0m \u001b[0;34m=\u001b[0m \u001b[0mimg\u001b[0m\u001b[0;34m[\u001b[0m\u001b[0;34m'alt'\u001b[0m\u001b[0;34m]\u001b[0m\u001b[0;34m\u001b[0m\u001b[0;34m\u001b[0m\u001b[0m\n\u001b[0m\u001b[1;32m     32\u001b[0m         \u001b[0mfol_img_list\u001b[0m\u001b[0;34m.\u001b[0m\u001b[0mappend\u001b[0m\u001b[0;34m(\u001b[0m\u001b[0mname\u001b[0m\u001b[0;34m)\u001b[0m\u001b[0;34m\u001b[0m\u001b[0;34m\u001b[0m\u001b[0m\n\u001b[1;32m     33\u001b[0m         \u001b[0mimg_list\u001b[0m\u001b[0;34m.\u001b[0m\u001b[0mappend\u001b[0m\u001b[0;34m(\u001b[0m\u001b[0murljoin\u001b[0m\u001b[0;34m(\u001b[0m\u001b[0mURL\u001b[0m\u001b[0;34m,\u001b[0m \u001b[0mimg\u001b[0m\u001b[0;34m[\u001b[0m\u001b[0;34m'src'\u001b[0m\u001b[0;34m]\u001b[0m\u001b[0;34m)\u001b[0m\u001b[0;34m)\u001b[0m\u001b[0;34m\u001b[0m\u001b[0;34m\u001b[0m\u001b[0m\n",
      "\u001b[0;32m/usr/lib/python3/dist-packages/bs4/element.py\u001b[0m in \u001b[0;36m__getitem__\u001b[0;34m(self, key)\u001b[0m\n\u001b[1;32m   1484\u001b[0m         \"\"\"tag[key] returns the value of the 'key' attribute for the Tag,\n\u001b[1;32m   1485\u001b[0m         and throws an exception if it's not there.\"\"\"\n\u001b[0;32m-> 1486\u001b[0;31m         \u001b[0;32mreturn\u001b[0m \u001b[0mself\u001b[0m\u001b[0;34m.\u001b[0m\u001b[0mattrs\u001b[0m\u001b[0;34m[\u001b[0m\u001b[0mkey\u001b[0m\u001b[0;34m]\u001b[0m\u001b[0;34m\u001b[0m\u001b[0;34m\u001b[0m\u001b[0m\n\u001b[0m\u001b[1;32m   1487\u001b[0m \u001b[0;34m\u001b[0m\u001b[0m\n\u001b[1;32m   1488\u001b[0m     \u001b[0;32mdef\u001b[0m \u001b[0m__iter__\u001b[0m\u001b[0;34m(\u001b[0m\u001b[0mself\u001b[0m\u001b[0;34m)\u001b[0m\u001b[0;34m:\u001b[0m\u001b[0;34m\u001b[0m\u001b[0;34m\u001b[0m\u001b[0m\n",
      "\u001b[0;31mKeyError\u001b[0m: 'alt'"
     ]
    }
   ],
   "source": [
    "import requests\n",
    "import urllib.request\n",
    "from bs4 import BeautifulSoup\n",
    "from urllib.parse import urljoin, urlparse \n",
    "from urllib import parse\n",
    "import os, sys\n",
    "\n",
    "import re\n",
    "\n",
    "URL = 'https://en.wikipedia.org/wiki/Python_(programming_language)'\n",
    "\n",
    "def get_url(URL):\n",
    "    if requests.get(URL).status_code == 200:\n",
    "        soup = BeautifulSoup(requests.get(URL).text, \"html.parser\")\n",
    "        return soup\n",
    "    else:\n",
    "        return 'ERROR'\n",
    "\n",
    "\n",
    "def download(soup, page_num = 5, img_num = 5):\n",
    "    link_list = set()\n",
    "    # prefix = 'https://en.wikipedia.org/'\n",
    "    for link in soup.find_all('a', href=True):\n",
    "        if  link['href'].startswith(\"/\") and not ':' in link['href']:\n",
    "            link_list.add(urljoin(URL, link['href']))\n",
    "\n",
    "        # print(link_list)\n",
    "    fol_img_list = []\n",
    "    img_list = []\n",
    "    for img in soup.find_all('img', src=True):\n",
    "        name = img['alt']\n",
    "        fol_img_list.append()\n",
    "        img_list.append(urljoin(URL, img['src']))\n",
    "        parsed_url = urlparse(URL)\n",
    "        # base_domain = urlparse(URL).netloc\n",
    "        base_domain = parsed_url.netloc\n",
    "        folder_name = base_domain.replace(\".\", \"_\")\n",
    "        os.makedirs(folder_name, exist_ok=True)\n",
    "        # print(parsed_url)\n",
    "        # print(base_domain)\n",
    "        print(fol_img_list )\n",
    "\n",
    "        # for i, link in enumerate(img_list):\n",
    "        #     filename = f\"image_{fol_img_list[i]}.jpg\"\n",
    "        #     filepath = os.path.join(folder_name, filename)\n",
    "        #     urllib.request.urlretrieve(link, filepath)\n",
    "            \n",
    "            # print(f\"Downloaded image {i+1}/{len(img_list)}\")\n",
    "   \n",
    "    # print(*img_list,sep='\\n')\n",
    "\n",
    "\n",
    "    # print(*link_list,sep='\\n')\n",
    "\n",
    "\n",
    "    # print(len(img_list))\n",
    "\n",
    "\n",
    "  \n",
    "\n",
    "\n",
    "   \n",
    "   \n",
    "\n",
    "download(get_url(URL))\n",
    "    # print(*link_list,sep='\\n')\n",
    "\n",
    "# prefix = 'https://en.wikipedia.org/'\n",
    "\n",
    "\n",
    "\n",
    "\n",
    " \n",
    "\n"
   ]
  },
  {
   "cell_type": "code",
   "execution_count": null,
   "metadata": {},
   "outputs": [],
   "source": []
  }
 ],
 "metadata": {
  "kernelspec": {
   "display_name": "Python 3",
   "language": "python",
   "name": "python3"
  },
  "language_info": {
   "codemirror_mode": {
    "name": "ipython",
    "version": 3
   },
   "file_extension": ".py",
   "mimetype": "text/x-python",
   "name": "python",
   "nbconvert_exporter": "python",
   "pygments_lexer": "ipython3",
   "version": "3.10.6"
  },
  "orig_nbformat": 4
 },
 "nbformat": 4,
 "nbformat_minor": 2
}
