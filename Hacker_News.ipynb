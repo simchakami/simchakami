{
 "cells": [
  {
   "cell_type": "code",
   "execution_count": 101,
   "metadata": {},
   "outputs": [],
   "source": [
    "import csv\n",
    "import requests\n",
    "\n",
    "\n",
    "def artical_data(num):\n",
    "   response = requests.get('https://hacker-news.firebaseio.com/v0/topstories.json?print=pretty')\n",
    "   if response.status_code == 200:\n",
    "      artical_list_id = response.json()\n",
    "      dict_list = []\n",
    "      for i in range(num):\n",
    "         dict_list.append(requests.get(f'https://hacker-news.firebaseio.com/v0/item/{artical_list_id[i]}.json?print=pretty').json())\n",
    "      return dict_list\n",
    "   else:\n",
    "      print ('ERROR')\n",
    "   \n",
    "   \n",
    "def hacker_news(file_name,num):\n",
    "   data_list = artical_data(num)\n",
    "   with open(f\"{file_name}.csv\", 'w') as data_file:\n",
    "      fieldnames = data_list[0].keys()\n",
    "      writer = csv.DictWriter(data_file, fieldnames = fieldnames, extrasaction = 'ignore')\n",
    "      writer.writeheader()\n",
    "      writer.writerows(data_list)\n",
    "\n",
    "   \n",
    "hacker_news(input(\"enter the name for a csv file:\\n\"),int(input(\"number of articals:\\n\")))\n",
    "\n",
    "\n",
    "\n",
    "\n"
   ]
  }
 ],
 "metadata": {
  "kernelspec": {
   "display_name": "Python 3",
   "language": "python",
   "name": "python3"
  },
  "language_info": {
   "codemirror_mode": {
    "name": "ipython",
    "version": 3
   },
   "file_extension": ".py",
   "mimetype": "text/x-python",
   "name": "python",
   "nbconvert_exporter": "python",
   "pygments_lexer": "ipython3",
   "version": "3.10.6"
  },
  "orig_nbformat": 4
 },
 "nbformat": 4,
 "nbformat_minor": 2
}
