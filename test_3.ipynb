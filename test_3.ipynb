{
 "cells": [
  {
   "cell_type": "code",
   "execution_count": 8,
   "metadata": {},
   "outputs": [
    {
     "name": "stdout",
     "output_type": "stream",
     "text": [
      "https://upload.wikimedia.org/wikipedia/commons/thumb/d/df/Wikibooks-logo-en-noslogan.svg/16px-Wikibooks-logo-en-noslogan.svg.png\n",
      "https://upload.wikimedia.org/wikipedia/en/thumb/9/96/Symbol_category_class.svg/16px-Symbol_category_class.svg.png\n",
      "https://upload.wikimedia.org/wikipedia/commons/thumb/f/fa/Wikiquote-logo.svg/23px-Wikiquote-logo.svg.png\n",
      "https://en.wikipedia.org/static/images/footer/wikimedia-button.png\n",
      "https://en.wikipedia.org/static/images/mobile/copyright/wikipedia-wordmark-en.svg\n",
      "https://upload.wikimedia.org/wikipedia/commons/thumb/c/c4/Python_3._The_standard_type_hierarchy-en.svg/220px-Python_3._The_standard_type_hierarchy-en.svg.png\n",
      "https://en.wikipedia.org/static/images/mobile/copyright/wikipedia-tagline-en.svg\n",
      "https://upload.wikimedia.org/wikipedia/en/thumb/e/e2/Symbol_portal_class.svg/16px-Symbol_portal_class.svg.png\n",
      "https://en.wikipedia.org/static/images/icons/wikipedia.png\n",
      "https://upload.wikimedia.org/wikipedia/commons/thumb/c/c3/Python-logo-notext.svg/121px-Python-logo-notext.svg.png\n",
      "https://upload.wikimedia.org/wikipedia/commons/thumb/6/6f/Octicons-terminal.svg/24px-Octicons-terminal.svg.png\n",
      "https://upload.wikimedia.org/wikipedia/commons/thumb/0/0b/Wikiversity_logo_2017.svg/27px-Wikiversity_logo_2017.svg.png\n",
      "https://upload.wikimedia.org/wikipedia/commons/thumb/9/94/Guido_van_Rossum_OSCON_2006_cropped.png/150px-Guido_van_Rossum_OSCON_2006_cropped.png\n",
      "https://upload.wikimedia.org/wikipedia/commons/thumb/f/fa/Wikibooks-logo.svg/27px-Wikibooks-logo.svg.png\n",
      "https://en.wikipedia.org/wiki/Special:CentralAutoLogin/start?type=1x1\n",
      "https://upload.wikimedia.org/wikipedia/en/thumb/8/8a/OOjs_UI_icon_edit-ltr-progressive.svg/10px-OOjs_UI_icon_edit-ltr-progressive.svg.png\n",
      "https://upload.wikimedia.org/wikipedia/en/thumb/d/db/Symbol_list_class.svg/16px-Symbol_list_class.svg.png\n",
      "https://en.wikipedia.org/static/images/footer/poweredby_mediawiki_88x31.png\n",
      "https://upload.wikimedia.org/wikipedia/commons/thumb/f/ff/Wikidata-logo.svg/27px-Wikidata-logo.svg.png\n",
      "https://upload.wikimedia.org/wikipedia/commons/thumb/3/31/Free_and_open-source_software_logo_%282009%29.svg/28px-Free_and_open-source_software_logo_%282009%29.svg.png\n",
      "https://upload.wikimedia.org/wikipedia/en/thumb/6/6c/Wiki_letter_w.svg/40px-Wiki_letter_w.svg.png\n",
      "https://upload.wikimedia.org/wikipedia/en/thumb/1/1b/Semi-protection-shackle.svg/20px-Semi-protection-shackle.svg.png\n",
      "https://upload.wikimedia.org/wikipedia/commons/thumb/b/bd/Python_Powered.png/220px-Python_Powered.png\n",
      "https://upload.wikimedia.org/wikipedia/en/thumb/4/4a/Commons-logo.svg/20px-Commons-logo.svg.png\n",
      "https://upload.wikimedia.org/wikipedia/commons/thumb/c/c3/Python-logo-notext.svg/55px-Python-logo-notext.svg.png\n"
     ]
    }
   ],
   "source": [
    "import requests\n",
    "from bs4 import BeautifulSoup\n",
    "from urllib.request import (\n",
    "    urlopen, urlparse, urlunparse, urlretrieve,urljoin)\n",
    "# from urllib.parse import urljoin, urlparse \n",
    "from urllib import parse\n",
    "import os, sys\n",
    "\n",
    "\n",
    "URL = 'https://en.wikipedia.org/wiki/Python_(programming_language)'\n",
    "\n",
    "soup = BeautifulSoup(requests.get(URL).text, \"html.parser\")\n",
    "\n",
    "# soup = BeautifulSoup(urlopen(URL))\n",
    "link_list = set()\n",
    "prefix = 'https://en.wikipedia.org/'\n",
    "for link in soup.find_all('a', href=True):\n",
    "    if  link['href'].startswith(\"/\") and not ':' in link['href']:\n",
    "        link_list.add(urljoin(prefix, link['href']))\n",
    "    \n",
    "# print(list(*link_list),sep='\\n')\n",
    "    # print(*link_list,sep='\\n')\n",
    "\n",
    "\n",
    "def download_img(URL):\n",
    "    img_list = set()\n",
    "    soup = BeautifulSoup(requests.get(URL).text, \"html.parser\")\n",
    "    for img in soup.find_all('img', src=True):\n",
    "        img_list.add(urljoin(prefix, img['src']))\n",
    "        parsed_url = urlparse(URL)\n",
    "        base_domain = parsed_url.netloc\n",
    "        folder_name = base_domain.replace(\".\", \"_\")\n",
    "        os.makedirs(folder_name, exist_ok=True)\n",
    "\n",
    "    print(*img_list,sep='\\n')\n",
    "\n",
    "\n",
    "    # if not os.path.exists(pagefolder): \n",
    "    #     os.mkdir(pagefolder)\n",
    "    \n",
    "    # for img in soup.findAll(img):\n",
    "    #     filename = img['alt']\n",
    "    #     fileurl = parse.urljoin(url, img.get(\"src\"))\n",
    "    #     filepath = os.path.join(pagefolder, filename)\n",
    "    #     if not os.path.isfile(filepath):\n",
    "    #         with open(filepath, 'wb') as file:\n",
    "    #             filebin = session.get(fileurl)\n",
    "    #             file.write(filebin.content)\n",
    "\n",
    "download_img(URL)\n",
    "\n",
    "\n",
    "# print(soup)"
   ]
  },
  {
   "cell_type": "code",
   "execution_count": null,
   "metadata": {},
   "outputs": [],
   "source": []
  }
 ],
 "metadata": {
  "kernelspec": {
   "display_name": "Python 3",
   "language": "python",
   "name": "python3"
  },
  "language_info": {
   "codemirror_mode": {
    "name": "ipython",
    "version": 3
   },
   "file_extension": ".py",
   "mimetype": "text/x-python",
   "name": "python",
   "nbconvert_exporter": "python",
   "pygments_lexer": "ipython3",
   "version": "3.10.6"
  },
  "orig_nbformat": 4
 },
 "nbformat": 4,
 "nbformat_minor": 2
}
