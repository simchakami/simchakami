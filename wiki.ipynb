{
 "cells": [
  {
   "cell_type": "code",
   "execution_count": null,
   "metadata": {},
   "outputs": [],
   "source": [
    "import requests\n",
    "import urllib.request\n",
    "from bs4 import BeautifulSoup\n",
    "from urllib.parse import urljoin, urlparse \n",
    "from urllib import parse\n",
    "import os, sys\n",
    "\n",
    "import re\n",
    "\n",
    "URL = 'https://en.wikipedia.org/wiki/Python_(programming_language)'\n",
    "\n",
    "def get_url(URL):\n",
    "    if requests.get(URL).status_code == 200:\n",
    "        soup = BeautifulSoup(requests.get(URL).text, \"html.parser\")\n",
    "        return soup\n",
    "    else:\n",
    "        return 'ERROR'\n",
    "\n",
    "\n",
    "def download_link(soup):\n",
    "    link_list = set()\n",
    "    # prefix = 'https://en.wikipedia.org/'\n",
    "    for link in soup.find_all('a', href=True):\n",
    "        if  link['href'].startswith(\"/\") and not ':' in link['href']:\n",
    "            link_list.add(urljoin(URL, link['href']))\n",
    "\n",
    "        # print(link_list)\n",
    "\n",
    "    img_list = []\n",
    "    for img in soup.find_all('img', src=True):\n",
    "        img_list.append(urljoin(URL, img['src']))\n",
    "        parsed_url = urlparse(URL)\n",
    "        base_domain = parsed_url.netloc\n",
    "        folder_name = base_domain.replace(\".\", \"_\")\n",
    "        os.makedirs(folder_name, exist_ok=True)\n",
    "        # print(parsed_url)\n",
    "        # print(base_domain)\n",
    "        print(folder_name)\n",
    "\n",
    "        for i, link in enumerate(img_list):\n",
    "            filename = f\"image_{i+1}.jpg\"\n",
    "            filepath = os.path.join(folder_name, filename)\n",
    "            urllib.request.urlretrieve(link, filepath)\n",
    "            # print(f\"Downloaded image {i+1}/{len(img_list)}\")\n",
    "   \n",
    "    # print(*img_list,sep='\\n')\n",
    "\n",
    "\n",
    "    # print(*link_list,sep='\\n')\n",
    "\n",
    "\n",
    "    # print(len(img_list))\n",
    "\n",
    "\n",
    "  \n",
    "\n",
    "\n",
    "   \n",
    "   \n",
    "\n",
    "download_link(get_url(URL))\n",
    "    # print(*link_list,sep='\\n')\n",
    "\n",
    "# prefix = 'https://en.wikipedia.org/'\n",
    "\n",
    "\n",
    "\n",
    "\n",
    " \n",
    "\n"
   ]
  },
  {
   "cell_type": "code",
   "execution_count": 29,
   "metadata": {},
   "outputs": [
    {
     "name": "stdout",
     "output_type": "stream",
     "text": [
      "/home/User/Desktop/file.txt\n"
     ]
    }
   ],
   "source": [
    "path = \"/home\"\n",
    " \n",
    "# Join various path components\n",
    "print(os.path.join(path, \"User/Desktop\", \"file.txt\"))"
   ]
  },
  {
   "cell_type": "code",
   "execution_count": 34,
   "metadata": {},
   "outputs": [
    {
     "name": "stdout",
     "output_type": "stream",
     "text": [
      "Downloaded image 1/1\n"
     ]
    }
   ],
   "source": [
    "import urllib.request\n",
    "import os\n",
    "\n",
    "def download_images(image_links, folder_path):\n",
    "    if not os.path.exists(folder_path):\n",
    "        os.makedirs(folder_path)\n",
    "\n",
    "    for i, link in enumerate(image_links):\n",
    "        filename = f\"image_{i+1}.jpg\"\n",
    "        filepath = os.path.join(folder_path, filename)\n",
    "        urllib.request.urlretrieve(link, filepath)\n",
    "        print(f\"Downloaded image {i+1}/{len(image_links)}\")\n",
    "\n",
    "# Example list of image links\n",
    "image_links = [\n",
    "    \"https://en.wikipedia.org/wiki/Virtual_machine\",\n",
    "   \n",
    "]\n",
    "\n",
    "# Folder path to save the downloaded images\n",
    "folder_path = \"image_folder\"\n",
    "\n",
    "# Call the function to download and save the images\n",
    "download_images(image_links, folder_path)\n"
   ]
  },
  {
   "cell_type": "code",
   "execution_count": null,
   "metadata": {},
   "outputs": [],
   "source": []
  }
 ],
 "metadata": {
  "kernelspec": {
   "display_name": "Python 3",
   "language": "python",
   "name": "python3"
  },
  "language_info": {
   "codemirror_mode": {
    "name": "ipython",
    "version": 3
   },
   "file_extension": ".py",
   "mimetype": "text/x-python",
   "name": "python",
   "nbconvert_exporter": "python",
   "pygments_lexer": "ipython3",
   "version": "3.10.6"
  },
  "orig_nbformat": 4
 },
 "nbformat": 4,
 "nbformat_minor": 2
}
