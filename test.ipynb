{
 "cells": [
  {
   "cell_type": "code",
   "execution_count": 11,
   "metadata": {},
   "outputs": [
    {
     "name": "stdout",
     "output_type": "stream",
     "text": [
      "I\n"
     ]
    },
    {
     "ename": "TypeError",
     "evalue": "a bytes-like object is required, not 'Tag'",
     "output_type": "error",
     "traceback": [
      "\u001b[0;31m---------------------------------------------------------------------------\u001b[0m",
      "\u001b[0;31mTypeError\u001b[0m                                 Traceback (most recent call last)",
      "\u001b[0;32m/tmp/ipykernel_3659/3833781363.py\u001b[0m in \u001b[0;36m<module>\u001b[0;34m\u001b[0m\n\u001b[1;32m     35\u001b[0m             \u001b[0mfile\u001b[0m\u001b[0;34m.\u001b[0m\u001b[0mwrite\u001b[0m\u001b[0;34m(\u001b[0m\u001b[0mimg\u001b[0m\u001b[0;34m)\u001b[0m\u001b[0;34m\u001b[0m\u001b[0;34m\u001b[0m\u001b[0m\n\u001b[1;32m     36\u001b[0m             \u001b[0mprint\u001b[0m\u001b[0;34m(\u001b[0m\u001b[0mfilepath\u001b[0m\u001b[0;34m)\u001b[0m\u001b[0;34m\u001b[0m\u001b[0;34m\u001b[0m\u001b[0m\n\u001b[0;32m---> 37\u001b[0;31m \u001b[0mdownload_img\u001b[0m\u001b[0;34m(\u001b[0m\u001b[0msoup\u001b[0m \u001b[0;34m,\u001b[0m\u001b[0mpagefolder\u001b[0m\u001b[0;34m,\u001b[0m\u001b[0mtitle\u001b[0m\u001b[0;34m)\u001b[0m\u001b[0;34m\u001b[0m\u001b[0;34m\u001b[0m\u001b[0m\n\u001b[0m\u001b[1;32m     38\u001b[0m \u001b[0;34m\u001b[0m\u001b[0m\n",
      "\u001b[0;32m/tmp/ipykernel_3659/3833781363.py\u001b[0m in \u001b[0;36mdownload_img\u001b[0;34m(soup, pagefolder, title)\u001b[0m\n\u001b[1;32m     33\u001b[0m         \u001b[0;32mwith\u001b[0m \u001b[0mopen\u001b[0m\u001b[0;34m(\u001b[0m\u001b[0mtitle\u001b[0m\u001b[0;34m,\u001b[0m \u001b[0;34m'wb'\u001b[0m\u001b[0;34m)\u001b[0m \u001b[0;32mas\u001b[0m \u001b[0mfile\u001b[0m\u001b[0;34m:\u001b[0m\u001b[0;34m\u001b[0m\u001b[0;34m\u001b[0m\u001b[0m\n\u001b[1;32m     34\u001b[0m             \u001b[0;31m# filebin = requests.Session().get(fileuasrl)\u001b[0m\u001b[0;34m\u001b[0m\u001b[0;34m\u001b[0m\u001b[0m\n\u001b[0;32m---> 35\u001b[0;31m             \u001b[0mfile\u001b[0m\u001b[0;34m.\u001b[0m\u001b[0mwrite\u001b[0m\u001b[0;34m(\u001b[0m\u001b[0mimg\u001b[0m\u001b[0;34m)\u001b[0m\u001b[0;34m\u001b[0m\u001b[0;34m\u001b[0m\u001b[0m\n\u001b[0m\u001b[1;32m     36\u001b[0m             \u001b[0mprint\u001b[0m\u001b[0;34m(\u001b[0m\u001b[0mfilepath\u001b[0m\u001b[0;34m)\u001b[0m\u001b[0;34m\u001b[0m\u001b[0;34m\u001b[0m\u001b[0m\n\u001b[1;32m     37\u001b[0m \u001b[0mdownload_img\u001b[0m\u001b[0;34m(\u001b[0m\u001b[0msoup\u001b[0m \u001b[0;34m,\u001b[0m\u001b[0mpagefolder\u001b[0m\u001b[0;34m,\u001b[0m\u001b[0mtitle\u001b[0m\u001b[0;34m)\u001b[0m\u001b[0;34m\u001b[0m\u001b[0;34m\u001b[0m\u001b[0m\n",
      "\u001b[0;31mTypeError\u001b[0m: a bytes-like object is required, not 'Tag'"
     ]
    }
   ],
   "source": [
    "import requests\n",
    "from bs4 import BeautifulSoup\n",
    "from urllib.parse import urljoin \n",
    "from urllib import parse\n",
    "import os, sys\n",
    "\n",
    "URL = 'https://en.wikipedia.org/wiki/Python_(programming_language)'\n",
    "\n",
    "def get_url(URL):\n",
    "    if requests.get(URL).status_code == 200:\n",
    "        page = requests.get(URL)\n",
    "        soup = BeautifulSoup(requests.Session().get(URL).text, \"html.parser\")\n",
    "        return soup\n",
    "    else:\n",
    "        return 'ERROR'\n",
    "soup = get_url(URL)\n",
    "pagefolder = r'/home/mefathim-tech-38/Desktop/vs_script/wiki_list'\n",
    "title = 'fslkjt'\n",
    "\n",
    "\n",
    "def download_img(soup, pagefolder,title):\n",
    "    pagefolder = r'/home/mefathim-tech-38/Desktop/vs_script/wiki_list'\n",
    "    print(\"I\")\n",
    "    # if not os.path.exists(pagefolder): \n",
    "    path = os.path.join(pagefolder, title)\n",
    "    os.makedirs(path)\n",
    "    # os.makedirs(pagefolder)\n",
    "    for img in soup.findAll('img'):\n",
    "        filename = img['alt']\n",
    "        fileurl = parse.urljoin(URL, img.get(\"src\")) ############3##\n",
    "        filepath = os.path.join(title, filename)\n",
    "        # if not os.path.isfile(filepath):\n",
    "        with open(title, 'wb') as file:\n",
    "            # filebin = requests.Session().get(fileuasrl)\n",
    "            file.write(img)\n",
    "            print(filepath)\n",
    "download_img(soup ,pagefolder,title)\n",
    "   "
   ]
  },
  {
   "cell_type": "code",
   "execution_count": 5,
   "metadata": {},
   "outputs": [
    {
     "data": {
      "text/plain": [
       "'/home/mefathim-tech-38/Desktop/vs_script/wiki_list/sim'"
      ]
     },
     "execution_count": 5,
     "metadata": {},
     "output_type": "execute_result"
    }
   ],
   "source": [
    "def crate_directory(name):\n",
    "    directory = name\n",
    "    parent_dir = \"/home/mefathim-tech-38/Desktop/vs_script/wiki_list\"\n",
    "    path = os.path.join(parent_dir, directory)\n",
    "    os.makedirs(path)\n",
    "    return parent_dir+f\"/{directory}\"\n",
    "crate_directory('sim')"
   ]
  },
  {
   "cell_type": "code",
   "execution_count": 8,
   "metadata": {},
   "outputs": [],
   "source": [
    "img_url = 'https://blog.finxter.com/wp-content/uploads/2022/04/greenland_01a.jpg'\n",
    "response = requests.get(img_url)\n",
    "if response.status_code:\n",
    "    fp = open('greenland_01a.png', 'wb')\n",
    "    fp.write(response.content)\n",
    "    fp.close()"
   ]
  },
  {
   "cell_type": "code",
   "execution_count": null,
   "metadata": {},
   "outputs": [],
   "source": []
  }
 ],
 "metadata": {
  "kernelspec": {
   "display_name": "Python 3",
   "language": "python",
   "name": "python3"
  },
  "language_info": {
   "codemirror_mode": {
    "name": "ipython",
    "version": 3
   },
   "file_extension": ".py",
   "mimetype": "text/x-python",
   "name": "python",
   "nbconvert_exporter": "python",
   "pygments_lexer": "ipython3",
   "version": "3.10.6"
  },
  "orig_nbformat": 4
 },
 "nbformat": 4,
 "nbformat_minor": 2
}
